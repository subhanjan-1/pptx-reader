{
 "cells": [
  {
   "cell_type": "code",
   "execution_count": 11,
   "metadata": {},
   "outputs": [],
   "source": [
    "from pptx import Presentation\n",
    "import pandas as pd"
   ]
  },
  {
   "cell_type": "code",
   "execution_count": 15,
   "metadata": {},
   "outputs": [],
   "source": [
    "data=[]\n",
    "prs=Presentation('Start up (1).pptx')"
   ]
  },
  {
   "cell_type": "code",
   "execution_count": 16,
   "metadata": {},
   "outputs": [],
   "source": [
    "slide=prs.slides[0]\n",
    "table=slide.shapes[2].table\n",
    "for line in table.rows:\n",
    "    each=\"\"\n",
    "    for bits in line.cells:\n",
    "        each+=bits.text_frame.text+\" \"\n",
    "    data.append(each)"
   ]
  },
  {
   "cell_type": "code",
   "execution_count": 17,
   "metadata": {},
   "outputs": [
    {
     "data": {
      "text/plain": [
       "['Start up Name  blinkit ',\n",
       " 'valuation 1000 ',\n",
       " 'Funded YES ',\n",
       " 'USP(unique selling proposition) ultra-Fast Delivery: Blinkit focuses on delivering groceries and daily essentials within minutes. Their promise of quick delivery—often in the blink of an eye—has captured the attention of busy urban consumers\\n ',\n",
       " 'Problem Statement: Quick Shopping: Blinkit allows customers to shop from their favorite stores in their neighborhood with just a few taps. You can buy groceries, fruits, vegetables, bakery items, flowers, meats, pet care products, baby care items, and cosmetics—all delivered quickly. ',\n",
       " 'Cap Table: SoftBank: Japan’s SoftBank was the largest shareholder in Blinkit, holding a 46% stake. As part of the acquisition by Zomato, SoftBank will receive around 3.2% stake in Zomato12.Tiger Global Management: Tiger Global, another major investor in Blinkit, will get around 1.3% stake in Zomato.Sequoia Capital: Sequoia Capital, an existing investor in Zomato, will receive an additional 0.5% stake.Other Investors: Other investors in Blinkit (previously Grofers) who will get new shares in Zomato include Korea’s KTB Ventures, Yuri Milner’s Apollete Asia, and Bennet Coleman and Co. Ltd. Grofers International Pte, the promoter entity of Grofers founders, will also hold over 0.8% stake in Zomato. ',\n",
       " 'Market Revenue The company’s revenues have more than doubled, with ₹2,302 crore reported in FY24 compared to ₹1,064 crore in FY23 ',\n",
       " 'Team Size As of the available information, Zomato currently employs 8,339 employees1 ',\n",
       " 'Technololgy sss ']"
      ]
     },
     "execution_count": 17,
     "metadata": {},
     "output_type": "execute_result"
    }
   ],
   "source": [
    "data"
   ]
  },
  {
   "cell_type": "code",
   "execution_count": 19,
   "metadata": {},
   "outputs": [
    {
     "data": {
      "text/plain": [
       "['Start up Name  blinkit ',\n",
       " 'valuation 1000 ',\n",
       " 'Funded YES ',\n",
       " 'USP(unique selling proposition) ultra-Fast Delivery: Blinkit focuses on delivering groceries and daily essentials within minutes. Their promise of quick delivery—often in the blink of an eye—has captured the attention of busy urban consumers\\n ',\n",
       " 'Problem Statement: Quick Shopping: Blinkit allows customers to shop from their favorite stores in their neighborhood with just a few taps. You can buy groceries, fruits, vegetables, bakery items, flowers, meats, pet care products, baby care items, and cosmetics—all delivered quickly. ',\n",
       " 'Cap Table: SoftBank: Japan’s SoftBank was the largest shareholder in Blinkit, holding a 46% stake. As part of the acquisition by Zomato, SoftBank will receive around 3.2% stake in Zomato12.Tiger Global Management: Tiger Global, another major investor in Blinkit, will get around 1.3% stake in Zomato.Sequoia Capital: Sequoia Capital, an existing investor in Zomato, will receive an additional 0.5% stake.Other Investors: Other investors in Blinkit (previously Grofers) who will get new shares in Zomato include Korea’s KTB Ventures, Yuri Milner’s Apollete Asia, and Bennet Coleman and Co. Ltd. Grofers International Pte, the promoter entity of Grofers founders, will also hold over 0.8% stake in Zomato. ',\n",
       " 'Market Revenue The company’s revenues have more than doubled, with ₹2,302 crore reported in FY24 compared to ₹1,064 crore in FY23 ',\n",
       " 'Team Size As of the available information, Zomato currently employs 8,339 employees1 ',\n",
       " 'Technololgy sss ']"
      ]
     },
     "execution_count": 19,
     "metadata": {},
     "output_type": "execute_result"
    }
   ],
   "source": [
    "data"
   ]
  },
  {
   "cell_type": "code",
   "execution_count": 20,
   "metadata": {},
   "outputs": [],
   "source": [
    "listtostr=' '.join([str(elem) for elem in data])"
   ]
  },
  {
   "cell_type": "code",
   "execution_count": 21,
   "metadata": {},
   "outputs": [
    {
     "data": {
      "text/plain": [
       "'Start up Name  blinkit  valuation 1000  Funded YES  USP(unique selling proposition) ultra-Fast Delivery: Blinkit focuses on delivering groceries and daily essentials within minutes. Their promise of quick delivery—often in the blink of an eye—has captured the attention of busy urban consumers\\n  Problem Statement: Quick Shopping: Blinkit allows customers to shop from their favorite stores in their neighborhood with just a few taps. You can buy groceries, fruits, vegetables, bakery items, flowers, meats, pet care products, baby care items, and cosmetics—all delivered quickly.  Cap Table: SoftBank: Japan’s SoftBank was the largest shareholder in Blinkit, holding a 46% stake. As part of the acquisition by Zomato, SoftBank will receive around 3.2% stake in Zomato12.Tiger Global Management: Tiger Global, another major investor in Blinkit, will get around 1.3% stake in Zomato.Sequoia Capital: Sequoia Capital, an existing investor in Zomato, will receive an additional 0.5% stake.Other Investors: Other investors in Blinkit (previously Grofers) who will get new shares in Zomato include Korea’s KTB Ventures, Yuri Milner’s Apollete Asia, and Bennet Coleman and Co. Ltd. Grofers International Pte, the promoter entity of Grofers founders, will also hold over 0.8% stake in Zomato.  Market Revenue The company’s revenues have more than doubled, with ₹2,302 crore reported in FY24 compared to ₹1,064 crore in FY23  Team Size As of the available information, Zomato currently employs 8,339 employees1  Technololgy sss '"
      ]
     },
     "execution_count": 21,
     "metadata": {},
     "output_type": "execute_result"
    }
   ],
   "source": [
    "listtostr"
   ]
  }
 ],
 "metadata": {
  "kernelspec": {
   "display_name": "base",
   "language": "python",
   "name": "python3"
  },
  "language_info": {
   "codemirror_mode": {
    "name": "ipython",
    "version": 3
   },
   "file_extension": ".py",
   "mimetype": "text/x-python",
   "name": "python",
   "nbconvert_exporter": "python",
   "pygments_lexer": "ipython3",
   "version": "3.10.9"
  }
 },
 "nbformat": 4,
 "nbformat_minor": 2
}
